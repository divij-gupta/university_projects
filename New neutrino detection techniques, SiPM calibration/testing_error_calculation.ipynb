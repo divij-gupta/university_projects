{
 "cells": [
  {
   "cell_type": "code",
   "execution_count": 17,
   "outputs": [],
   "source": [
    "import numpy as np\n",
    "import scipy.optimize"
   ],
   "metadata": {
    "collapsed": false,
    "pycharm": {
     "name": "#%%\n"
    }
   }
  },
  {
   "cell_type": "code",
   "execution_count": 56,
   "outputs": [],
   "source": [
    "all_data = np.genfromtxt(r'C:\\Users\\divij\\Documents\\UCSB\\LECTURES\\Winter Quarter\\Stats and Machine Learning (240)\\Homeworks\\skytemperature'\n",
    "                         '.csv', delimiter=',', skip_header=1)\n",
    "all_data = all_data[3:-2]   # Removing points with zero weight and no data\n",
    "\n",
    "central_freq = 75\n",
    "\n",
    "frequencies = all_data[:, 0]    # MHz\n",
    "frequencies_frac = frequencies / central_freq   # No units\n",
    "sky_temps = all_data[:, 2]  # K"
   ],
   "metadata": {
    "collapsed": false,
    "pycharm": {
     "name": "#%%\n"
    }
   }
  },
  {
   "cell_type": "code",
   "execution_count": 39,
   "metadata": {
    "collapsed": true
   },
   "outputs": [
    {
     "name": "stdout",
     "output_type": "stream",
     "text": [
      "CPU times: total: 0 ns\n",
      "Wall time: 0 ns\n"
     ]
    }
   ],
   "source": [
    "%%time\n",
    "\n",
    "cov_power = np.diag(np.ones(len(sky_temps)) * 40)\n",
    "\n",
    "def question_2_2_b_1(c_params, full_output=False, min_val=None):\n",
    "\n",
    "    d = sky_temps - c0 * np.exp(-np.power(np.abs((frequencies_frac - c_params[0])/c_params[1]), 5))\n",
    "    A = np.empty((0, 5))\n",
    "    for freq in frequencies_frac:\n",
    "        temp = np.array([ freq**(-2.5), freq**(-2.5)*np.log(freq), freq**(-2.5)*(np.log(freq))**2, freq**(-4.5), freq**(-2) ])\n",
    "        A = np.vstack((A, temp))\n",
    "\n",
    "    theta_MLE = np.linalg.lstsq(np.dot(cov_power, A), np.dot(cov_power, d), rcond=None)[0]\n",
    "    chi_squared = np.linalg.norm(np.dot(cov_power, d - np.dot(A, theta_MLE)))**2\n",
    "\n",
    "    if full_output:\n",
    "        return chi_squared, theta_MLE\n",
    "\n",
    "    if min_val:\n",
    "        return np.abs(chi_squared - (min_val + 1))\n",
    "\n",
    "    return chi_squared\n",
    "\n",
    "c0_range = np.linspace(-0.52, -0.48, 100)\n",
    "chi_squared_range = []\n",
    "\n",
    "for c0 in c0_range:\n",
    "    best_c1, best_c2 = scipy.optimize.differential_evolution(question_2_2_b_1, [(0.1, 2.0), (0.01, 1)]).x\n",
    "    chi_squared = question_2_2_b_1([best_c1, best_c2])\n",
    "    chi_squared_range.append(chi_squared)"
   ]
  },
  {
   "cell_type": "code",
   "execution_count": 41,
   "outputs": [
    {
     "name": "stdout",
     "output_type": "stream",
     "text": [
      "Found: c0 = 0.499 ± 0.0164 mK\n",
      "This gives the signal to noise ratio as: 30.49\n"
     ]
    }
   ],
   "source": [
    "min_index = np.argmin(chi_squared_range)\n",
    "chi_squared_min = chi_squared_range[min_index]\n",
    "c0_best = c0_range[min_index]\n",
    "\n",
    "std_index_lower = np.argmin(np.abs(chi_squared_range[:min_index] - (chi_squared_min + 1)))\n",
    "std_index_upper = np.argmin(np.abs(chi_squared_range[min_index:] - (chi_squared_min + 1))) + min_index\n",
    "\n",
    "c0_best_std = 0.5 * (np.abs(c0_best - c0_range[std_index_lower]) + np.abs(c0_best - c0_range[std_index_upper]))\n",
    "\n",
    "print(f\"Found: c0 = {np.abs(c0_best):.3f} ± {c0_best_std:.4f} mK\")\n",
    "print(f\"This gives the signal to noise ratio as: {np.abs(c0_best)/c0_best_std:.2f}\")"
   ],
   "metadata": {
    "collapsed": false,
    "pycharm": {
     "name": "#%%\n"
    }
   }
  },
  {
   "cell_type": "markdown",
   "source": [
    "Does minimize give roughly the same parameters"
   ],
   "metadata": {
    "collapsed": false
   }
  },
  {
   "cell_type": "code",
   "execution_count": 45,
   "outputs": [
    {
     "name": "stdout",
     "output_type": "stream",
     "text": [
      "[ 1.04340379  0.13381039 -0.49903717]\n",
      "119.34047729046674\n"
     ]
    }
   ],
   "source": [
    "def question_2_2_b_1_x(c_params, full_output=False, min_val=None):\n",
    "\n",
    "    d = sky_temps - c_params[2] * np.exp(-np.power(np.abs((frequencies_frac - c_params[0])/c_params[1]), 5))\n",
    "    A = np.empty((0, 5))\n",
    "    for freq in frequencies_frac:\n",
    "        temp = np.array([ freq**(-2.5), freq**(-2.5)*np.log(freq), freq**(-2.5)*(np.log(freq))**2, freq**(-4.5), freq**(-2) ])\n",
    "        A = np.vstack((A, temp))\n",
    "\n",
    "    theta_MLE = np.linalg.lstsq(np.dot(cov_power, A), np.dot(cov_power, d), rcond=None)[0]\n",
    "    chi_squared = np.linalg.norm(np.dot(cov_power, d - np.dot(A, theta_MLE)))**2\n",
    "\n",
    "    if full_output:\n",
    "        return chi_squared, theta_MLE\n",
    "\n",
    "    if min_val:\n",
    "        return np.abs(chi_squared - (min_val + 1))\n",
    "\n",
    "    return chi_squared\n",
    "\n",
    "c0_best_trial2 = scipy.optimize.minimize(question_2_2_b_1_x, np.array([1.05, 0.13, -0.5]), bounds=((0.1, 2.0), (0.01, 1), (-0.6, -0.4)))\n",
    "print(c0_best_trial2.x)\n",
    "print(c0_best_trial2.fun)"
   ],
   "metadata": {
    "collapsed": false,
    "pycharm": {
     "name": "#%%\n"
    }
   }
  },
  {
   "cell_type": "markdown",
   "source": [
    "Gives roughly the same parameters"
   ],
   "metadata": {
    "collapsed": false
   }
  },
  {
   "cell_type": "code",
   "execution_count": 46,
   "outputs": [
    {
     "name": "stdout",
     "output_type": "stream",
     "text": [
      "[ 1.04302936  0.1349081  -0.49993076]\n"
     ]
    }
   ],
   "source": [
    "c0_best_trial2_bound = scipy.optimize.minimize(question_2_2_b_1_x, np.array([1.05, 0.13, -0.5]), args=(False, c0_best_trial2.fun),\n",
    "                                               bounds=((0.1, 2.0), (0.01, 1), (-0.52, -0.48)))\n",
    "print(c0_best_trial2_bound.x)"
   ],
   "metadata": {
    "collapsed": false,
    "pycharm": {
     "name": "#%%\n"
    }
   }
  },
  {
   "cell_type": "code",
   "execution_count": 47,
   "outputs": [
    {
     "name": "stdout",
     "output_type": "stream",
     "text": [
      "-0.0008935899999999997\n"
     ]
    }
   ],
   "source": [
    "print(-0.49993076 - -0.49903717)"
   ],
   "metadata": {
    "collapsed": false,
    "pycharm": {
     "name": "#%%\n"
    }
   }
  },
  {
   "cell_type": "markdown",
   "source": [
    "Ok so i can't do it in this way :("
   ],
   "metadata": {
    "collapsed": false
   }
  },
  {
   "cell_type": "markdown",
   "source": [
    "What about bootstrap resampling, does that give a better error?"
   ],
   "metadata": {
    "collapsed": false
   }
  },
  {
   "cell_type": "code",
   "execution_count": 55,
   "outputs": [
    {
     "name": "stdout",
     "output_type": "stream",
     "text": [
      "0.22601576983010963\n",
      "0.7305914837502823\n",
      "CPU times: total: 3min 8s\n",
      "Wall time: 2min 58s\n"
     ]
    }
   ],
   "source": [
    "%%time\n",
    "\n",
    "samples_c0_best = np.array([])\n",
    "no_samples = 1000\n",
    "for i in range(no_samples):\n",
    "    samples_index = np.random.randint(0, len(sky_temps), size=len(sky_temps))\n",
    "    sky_temps = sky_temps[samples_index]                                    # REMEMBER THIS IS TERRIBLE CODING PRACTICE\n",
    "    sample_c0_best = scipy.optimize.minimize(question_2_2_b_1_x, np.array([1.05, 0.13, -0.5]), bounds=((0.1, 2.0), (0.01, 1),\n",
    "                                                                                                       (-0.6, -0.4))).x\n",
    "    samples_c0_best = np.append(samples_c0_best, sample_c0_best)\n",
    "\n",
    "print(np.mean(samples_c0_best))\n",
    "print(np.std(samples_c0_best))"
   ],
   "metadata": {
    "collapsed": false,
    "pycharm": {
     "name": "#%%\n"
    }
   }
  },
  {
   "cell_type": "markdown",
   "source": [
    "What about curve-fit, how accurate are those errors lol"
   ],
   "metadata": {
    "collapsed": false
   }
  },
  {
   "cell_type": "code",
   "execution_count": 62,
   "outputs": [
    {
     "name": "stdout",
     "output_type": "stream",
     "text": [
      "[ 4.20899204e+04  1.92142558e+04  3.79717264e+03 -8.98656349e+00\n",
      " -4.07362238e+04  4.05528872e+02  8.09397482e-01  1.30562928e+00]\n"
     ]
    }
   ],
   "source": [
    "def model_full(freq_fracs, a_0, a_1, a_2, a_3, a_4, c_0, c_1, c_2):\n",
    "\n",
    "    return a_0*np.power(freq_fracs, -2.5) + a_1*np.power(freq_fracs, -2.5)*np.log(freq_fracs) + \\\n",
    "           a_2*np.power(freq_fracs, -2.5)*np.power(np.log(freq_fracs), 2) + a_3*np.power(freq_fracs, -4.5) + a_4*np.power(freq_fracs, -2) + \\\n",
    "           c_0*np.exp(-np.power(np.abs((frequencies_frac - c_1)/c_2), 5))\n",
    "\n",
    "popt_1, pcov_1 = scipy.optimize.curve_fit(model_full, frequencies_frac, sky_temps, sigma=(np.ones(len(sky_temps)) * 0.025), maxfev=100000)\n",
    "\n",
    "print(popt_1)"
   ],
   "metadata": {
    "collapsed": false,
    "pycharm": {
     "name": "#%%\n"
    }
   }
  },
  {
   "cell_type": "markdown",
   "source": [
    "Ok so this is very very wrong, probably too many params to optimise - lets try helping it a little"
   ],
   "metadata": {
    "collapsed": false
   }
  },
  {
   "cell_type": "code",
   "execution_count": 63,
   "outputs": [
    {
     "name": "stdout",
     "output_type": "stream",
     "text": [
      "[ 1.53341965e+03  6.44912939e-03 -2.65528752e+00]\n"
     ]
    }
   ],
   "source": [
    "def model_condensed(freq_fracs, c_0, c_1, c_2):\n",
    "\n",
    "    d = sky_temps - c_0 * np.exp(-np.power(np.abs((frequencies_frac - c_1)/c_2), 5))\n",
    "    A = np.empty((0, 5))\n",
    "    for freq in frequencies_frac:\n",
    "        temp = np.array([ freq**(-2.5), freq**(-2.5)*np.log(freq), freq**(-2.5)*(np.log(freq))**2, freq**(-4.5), freq**(-2) ])\n",
    "        A = np.vstack((A, temp))\n",
    "\n",
    "    theta_MLE = np.linalg.lstsq(np.dot(cov_power, A), np.dot(cov_power, d), rcond=None)[0]\n",
    "\n",
    "    a_0, a_1, a_2, a_3, a_4 = theta_MLE\n",
    "\n",
    "    return a_0*np.power(freq_fracs, -2.5) + a_1*np.power(freq_fracs, -2.5)*np.log(freq_fracs) + \\\n",
    "           a_2*np.power(freq_fracs, -2.5)*np.power(np.log(freq_fracs), 2) + a_3*np.power(freq_fracs, -4.5) + a_4*np.power(freq_fracs, -2) + \\\n",
    "           c_0*np.exp(-np.power(np.abs((frequencies_frac - c_1)/c_2), 5))\n",
    "\n",
    "\n",
    "popt_2, pcov_2 = scipy.optimize.curve_fit(model_condensed, frequencies_frac, sky_temps, sigma=(np.ones(len(sky_temps)) * 0.025), maxfev=100000)\n",
    "\n",
    "print(popt_2)"
   ],
   "metadata": {
    "collapsed": false,
    "pycharm": {
     "name": "#%%\n"
    }
   }
  },
  {
   "cell_type": "markdown",
   "source": [
    "This is useless to try to make work - curvefit should be avoided if possible!"
   ],
   "metadata": {
    "collapsed": false
   }
  },
  {
   "cell_type": "code",
   "execution_count": null,
   "outputs": [],
   "source": [],
   "metadata": {
    "collapsed": false,
    "pycharm": {
     "name": "#%%\n"
    }
   }
  }
 ],
 "metadata": {
  "kernelspec": {
   "display_name": "Python 3",
   "language": "python",
   "name": "python3"
  },
  "language_info": {
   "codemirror_mode": {
    "name": "ipython",
    "version": 2
   },
   "file_extension": ".py",
   "mimetype": "text/x-python",
   "name": "python",
   "nbconvert_exporter": "python",
   "pygments_lexer": "ipython2",
   "version": "2.7.6"
  }
 },
 "nbformat": 4,
 "nbformat_minor": 0
}