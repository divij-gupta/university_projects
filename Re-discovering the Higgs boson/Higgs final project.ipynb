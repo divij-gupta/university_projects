{
 "cells": [
  {
   "cell_type": "markdown",
   "id": "protective-broadcast",
   "metadata": {},
   "source": [
    "    # Higgs project"
   ]
  },
  {
   "cell_type": "code",
   "execution_count": 1,
   "id": "standing-poker",
   "metadata": {},
   "outputs": [
    {
     "name": "stdout",
     "output_type": "stream",
     "text": [
      "Welcome to JupyROOT 6.22/08\n"
     ]
    }
   ],
   "source": [
    "import ROOT\n",
    "import math"
   ]
  },
  {
   "cell_type": "markdown",
   "id": "illegal-reach",
   "metadata": {},
   "source": [
    "### a.)"
   ]
  },
  {
   "cell_type": "code",
   "execution_count": 2,
   "id": "boolean-blood",
   "metadata": {},
   "outputs": [
    {
     "name": "stdout",
     "output_type": "stream",
     "text": [
      "Background data:\n",
      "\tGluGluToContinToZZTo2e2mu_13TeV_MCFM701_pythia8.root: 10973 events\n",
      "\tGluGluToContinToZZTo4mu_13TeV_MCFM701_pythia8.root: 883880 events\n",
      "\tZZTo4L_13TeV_powheg_pythia8.root: 351546 events\n",
      "\tGluGluToContinToZZTo4e_13TeV_MCFM701_pythia8.root: 741779 events\n",
      "\tZZTo4L_13TeV-amcatnloFXFX-pythia8.root: 696497 events\n",
      "\n",
      "Signal data:\n",
      "\tGluGluHToZZTo4L_M125_13TeV_powheg2_JHUgenV6_pythia8.root: 163319 events\n",
      "\tVBF_HToZZTo4L_M125_13TeV_powheg2_JHUgenV6_pythia8.root: 94072 events\n"
     ]
    }
   ],
   "source": [
    "bkg_files = ['GluGluToContinToZZTo2e2mu_13TeV_MCFM701_pythia8.root', 'GluGluToContinToZZTo4mu_13TeV_MCFM701_pythia8.root', \n",
    "             'ZZTo4L_13TeV_powheg_pythia8.root', 'GluGluToContinToZZTo4e_13TeV_MCFM701_pythia8.root', \n",
    "             'ZZTo4L_13TeV-amcatnloFXFX-pythia8.root']\n",
    "signal_files = ['GluGluHToZZTo4L_M125_13TeV_powheg2_JHUgenV6_pythia8.root', \n",
    "                'VBF_HToZZTo4L_M125_13TeV_powheg2_JHUgenV6_pythia8.root']\n",
    "\n",
    "def count_events(file_names, file_type):\n",
    "\n",
    "    for file_name in file_names:\n",
    "\n",
    "        f = ROOT.TFile(f'/home/public/Higgs/{file_type}/{file_name}','READ')\n",
    "\n",
    "        count = 0\n",
    "        for event in f.tree:\n",
    "            count += 1\n",
    "\n",
    "        print(f\"\\t{file_name}: {count} events\")\n",
    "    \n",
    "print('Background data:')\n",
    "count_events(bkg_files, 'Background')\n",
    "print()\n",
    "print('Signal data:')\n",
    "count_events(signal_files, 'Signal')"
   ]
  },
  {
   "cell_type": "markdown",
   "id": "athletic-impression",
   "metadata": {},
   "source": [
    "### b.)"
   ]
  },
  {
   "cell_type": "code",
   "execution_count": 3,
   "id": "integral-header",
   "metadata": {},
   "outputs": [],
   "source": [
    "# Define C++ helper function\n",
    "# Dw much about the details, this just allows us to combine a ROOT.vector of pt, eta, phi into a ROOT.vector of TLorentzVectors\n",
    "\n",
    "ROOT.gInterpreter.Declare(\"\"\"\n",
    "template <class T>\n",
    "using RVec = ROOT::VecOps::RVec<T>;\n",
    "\n",
    "RVec<TLorentzVector> make_four_vectors(RVec<float> pt, RVec<float> eta, RVec<float> phi, float m) {\n",
    "    RVec<TLorentzVector> four_vectors;\n",
    "    for (int i = 0; i < pt.size(); i += 1) {\n",
    "        TLorentzVector four_vec;\n",
    "        four_vec.SetPtEtaPhiM(pt[i], eta[i], phi[i], m);\n",
    "        four_vectors.emplace_back(four_vec);\n",
    "    }\n",
    "    return four_vectors;\n",
    "}\n",
    "\"\"\");"
   ]
  },
  {
   "cell_type": "code",
   "execution_count": 4,
   "id": "processed-denmark",
   "metadata": {},
   "outputs": [],
   "source": [
    "# Enable multithreading\n",
    "ROOT.EnableImplicitMT()\n",
    "\n",
    "def create_histogram(file_name, file_type):\n",
    "    # Define RDataFrame; uncomment one of the below to process that particular sample\n",
    "    df = ROOT.RDataFrame('tree', f'/home/public/Higgs/{file_type}/{file_name}')\n",
    "\n",
    "    # Define the variable is_good_electron/muon to indicate the lepton passes quality criteria, this variable is a ROOT.vector\n",
    "    df = df.Define('is_good_electron','els_pt > 7 && abs(els_sceta) < 2.5 && els_reliso < 0.35 && els_sigid')\n",
    "    df = df.Define('is_good_muon','mus_pt > 7 && abs(mus_eta) < 2.4 && mus_reliso < 0.35 && mus_sigid')\n",
    "\n",
    "    # Define good_els/good_mus_var. This is the same as els/mus_var but only for the good electrons/muons\n",
    "    df = df.Define('good_els_pt', 'els_pt[is_good_electron]')\n",
    "    df = df.Define('good_els_eta', 'els_sceta[is_good_electron]')\n",
    "    df = df.Define('good_els_phi', 'els_phi[is_good_electron]')\n",
    "    df = df.Define('good_els_4p', 'make_four_vectors(good_els_pt, good_els_eta, good_els_phi, 0.000511)')\n",
    "    df = df.Define('good_mus_pt', 'mus_pt[is_good_muon]')\n",
    "    df = df.Define('good_mus_eta', 'mus_eta[is_good_muon]')\n",
    "    df = df.Define('good_mus_phi', 'mus_phi[is_good_muon]')\n",
    "    df = df.Define('good_mus_4p', 'make_four_vectors(good_mus_pt, good_mus_eta, good_mus_phi, 0.106)')\n",
    "\n",
    "    # Also define num_good_electrons/muons as the total number of good electrons or muons\n",
    "    df = df.Define('num_good_electrons', 'good_els_pt.size()')\n",
    "    df = df.Define('num_good_muons', 'good_mus_pt.size()')\n",
    "\n",
    "    # Filter the dataframe based on number of electron and muons and define/calculate the variables m_4e/m_4mu/m_2e2mu\n",
    "    # Hint: you should be able to use Python Syntax for the Filter and Define functions except for replacing ’and’ with ’&&’\n",
    "\n",
    "    df_4goodels = df.Filter('num_good_electrons == 4')\n",
    "    df_4goodels = df_4goodels.Define('m_4e', '(good_els_4p[0] + good_els_4p[1] + good_els_4p[2] + good_els_4p[3]).Mag()')\n",
    "\n",
    "    df_4goodmus = df.Filter('num_good_muons == 4')\n",
    "    df_4goodmus = df_4goodmus.Define('m_4mu', '(good_mus_4p[0] + good_mus_4p[1] + good_mus_4p[2] + good_mus_4p[3]).Mag()')\n",
    "\n",
    "    df_2goodels_2goodmus = df.Filter('num_good_electrons == 2 && num_good_muons == 2')\n",
    "    df_2goodels_2goodmus = df_2goodels_2goodmus.Define('m_2e2mu', '(good_els_4p[0] + good_els_4p[1] + good_mus_4p[0] + good_mus_4p[1]).Mag()')\n",
    "\n",
    "    # .Mag() works since the TLorentzVector can be defined using PtEtaPhiM and it implicity converts to PxPyPzE\n",
    "\n",
    "    # Book histograms\n",
    "    m_4e = df_4goodels.Histo1D(('m_4e', 'Mass of 4e system; m_{4e} [GeV]; Entries', 70, 60, 340), 'm_4e')\n",
    "    m_4mu = df_4goodmus.Histo1D(('m_4mu', 'Mass of 4mu system; m_{4mu} [GeV]; Entries', 70, 60, 340), 'm_4mu')\n",
    "    m_2e2mu = df_2goodels_2goodmus.Histo1D(('m_2e2mu', 'Mass of 2e2mu system; m_{2e2mu} [GeV]; Entries', 70, 60, 340), 'm_2e2mu')\n",
    "\n",
    "    #make combined histogram\n",
    "    m_4l = m_4e.Clone()\n",
    "    m_4l.Add(m_4mu.GetPtr())\n",
    "    m_4l.Add(m_2e2mu.GetPtr())\n",
    "\n",
    "    # Write final histograms to file\n",
    "    out = ROOT.TFile(f'histograms/hist_{file_type}_{file_name}','RECREATE')\n",
    "    out.WriteObject(m_4l, \"m_4l\")\n",
    "#   m_4l.Write()\n",
    "    m_4e.Write()\n",
    "    m_4mu.Write()\n",
    "    m_2e2mu.Write()\n",
    "    out.Close()\n",
    "\n",
    "    print('Done')\n",
    "\n",
    "    return m_4l"
   ]
  },
  {
   "cell_type": "code",
   "execution_count": 5,
   "id": "great-place",
   "metadata": {},
   "outputs": [
    {
     "name": "stdout",
     "output_type": "stream",
     "text": [
      "Done\n",
      "Mean is given as 123.5654228929588 GeV\n"
     ]
    },
    {
     "data": {
      "image/png": "[encoded data removed]",
      "text/plain": [
       "<IPython.core.display.Image object>"
      ]
     },
     "metadata": {},
     "output_type": "display_data"
    }
   ],
   "source": [
    "signal_gg = create_histogram('GluGluHToZZTo4L_M125_13TeV_powheg2_JHUgenV6_pythia8.root', 'Signal')\n",
    "\n",
    "can1 = ROOT.TCanvas('can1', 'can1', 800, 600)\n",
    "can1.cd()\n",
    "\n",
    "signal_gg.SetTitle('m_{4l} distribution (gluon-gluon signal)')\n",
    "signal_gg.Draw()\n",
    "can1.Draw()\n",
    "\n",
    "print(f'Mean is given as {signal_gg.GetMean()} GeV')"
   ]
  },
  {
   "cell_type": "markdown",
   "id": "superb-nylon",
   "metadata": {},
   "source": [
    "### c.)"
   ]
  },
  {
   "cell_type": "code",
   "execution_count": 6,
   "id": "latest-commercial",
   "metadata": {},
   "outputs": [
    {
     "name": "stdout",
     "output_type": "stream",
     "text": [
      "Done\n",
      "Done\n",
      "Done\n",
      "Done\n",
      "Done\n",
      "Done\n",
      "CPU times: user 1min 1s, sys: 684 ms, total: 1min 2s\n",
      "Wall time: 18.4 s\n"
     ]
    }
   ],
   "source": [
    "%%time\n",
    "\n",
    "signal_qq = create_histogram('VBF_HToZZTo4L_M125_13TeV_powheg2_JHUgenV6_pythia8.root', 'Signal')\n",
    "bkg_gg_2e2mu = create_histogram('GluGluToContinToZZTo2e2mu_13TeV_MCFM701_pythia8.root', 'Background')\n",
    "bkg_gg_4mu = create_histogram('GluGluToContinToZZTo4mu_13TeV_MCFM701_pythia8.root', 'Background')\n",
    "bkg_gg_4e = create_histogram('GluGluToContinToZZTo4e_13TeV_MCFM701_pythia8.root', 'Background')\n",
    "bkg_zz_1 = create_histogram('ZZTo4L_13TeV_powheg_pythia8.root', 'Background')\n",
    "bkg_zz_2 = create_histogram('ZZTo4L_13TeV-amcatnloFXFX-pythia8.root', 'Background')\n",
    "\n",
    "bkg_gg = bkg_gg_2e2mu.Clone()\n",
    "bkg_gg.Add(bkg_gg_4mu)\n",
    "bkg_gg.Add(bkg_gg_4mu)\n",
    "out_gg = ROOT.TFile(f'histograms/hist_Backround_GluGluToContinToZZ.root','RECREATE')\n",
    "out_gg.WriteObject(bkg_gg, 'bkg_gg')\n",
    "# bkg_gg.Write()\n",
    "bkg_gg_2e2mu.Write()\n",
    "bkg_gg_4mu.Write()\n",
    "bkg_gg_4mu.Write()\n",
    "out_gg.Close()\n",
    "\n",
    "bkg_zz = bkg_zz_1.Clone()\n",
    "bkg_zz.Add(bkg_zz_2)\n",
    "out_zz = ROOT.TFile(f'histograms/hist_Backround_ZZTo4L.root','RECREATE')\n",
    "out_zz.WriteObject(bkg_zz, 'bkg_zz')\n",
    "# bkg_zz.Write()\n",
    "bkg_zz_1.Write()\n",
    "bkg_zz_2.Write()\n",
    "out_zz.Close()"
   ]
  },
  {
   "cell_type": "markdown",
   "id": "following-wednesday",
   "metadata": {},
   "source": [
    "### d.)"
   ]
  },
  {
   "cell_type": "code",
   "execution_count": 7,
   "id": "present-aruba",
   "metadata": {},
   "outputs": [
    {
     "data": {
      "image/png": "[encoded data removed]",
      "text/plain": [
       "<IPython.core.display.Image object>"
      ]
     },
     "metadata": {},
     "output_type": "display_data"
    }
   ],
   "source": [
    "# Load Histograms (change paths accordingly)\n",
    "f_qqToZZ = ROOT.TFile('histograms/hist_Backround_ZZTo4L.root', 'READ')\n",
    "f_ggToZZ = ROOT.TFile('histograms/hist_Backround_GluGluToContinToZZ.root', 'READ')\n",
    "f_ggToH = ROOT.TFile('histograms/hist_Signal_GluGluHToZZTo4L_M125_13TeV_powheg2_JHUgenV6_pythia8.root', 'READ')\n",
    "f_qqToHqq = ROOT.TFile('histograms/hist_Signal_VBF_HToZZTo4L_M125_13TeV_powheg2_JHUgenV6_pythia8.root', 'READ')\n",
    "\n",
    "# Initialize Final Histograms\n",
    "signal = ROOT.TH1D('signal', 'MC Higgs signal', 70, 60, 340)\n",
    "background = ROOT.TH1D('background', 'MC Background', 70, 60, 340)\n",
    "\n",
    "# Add histograms and scale\n",
    "signal.Add(f_ggToH.m_4l, f_qqToHqq.m_4l, .012180, .001044)\n",
    "signal.Scale(66.3 / signal.GetEntries())\n",
    "background.Add(f_qqToZZ.bkg_zz, f_ggToZZ.bkg_gg, 2.468, .01434)\n",
    "background.Scale(1235.7 / background.GetEntries())\n",
    "totSim = background.Integral() + signal.Integral()\n",
    "\n",
    "#Canvas for MC comparison\n",
    "can1 = ROOT.TCanvas('can1','MC Comparison')\n",
    "background.SetFillColor(ROOT.kAzure-4)\n",
    "background.Draw('hist')\n",
    "signal.SetFillColor(ROOT.kRed-7)\n",
    "signal.Draw('histsame')\n",
    "ROOT.gStyle.SetOptStat(0)\n",
    "leg1 = can1.BuildLegend(0.6,0.74,0.9,0.9)\n",
    "leg1.Draw()\n",
    "background.SetTitle('Invariant mass of 4l system;m_{4l} [GeV]; Entries')\n",
    "can1.Draw()"
   ]
  },
  {
   "cell_type": "markdown",
   "id": "massive-attempt",
   "metadata": {},
   "source": [
    "From the background there is a sharp peak around $m_{z}$ and a broad peak above $2 m_{z}$ as expected ($m_{z}$ = 91.2 GeV) (theory detailed on page 125 in Data Analysis Manual).\n",
    "\n",
    "From the signal there is peak around 120 GeV which is as we would want if we knew the Higgs boson to be of mass 125 GeV."
   ]
  },
  {
   "cell_type": "markdown",
   "id": "failing-swaziland",
   "metadata": {},
   "source": [
    "### e.)"
   ]
  },
  {
   "cell_type": "code",
   "execution_count": 8,
   "id": "directed-young",
   "metadata": {},
   "outputs": [
    {
     "name": "stdout",
     "output_type": "stream",
     "text": [
      "Done\n"
     ]
    }
   ],
   "source": [
    "higgs_data = create_histogram('Trimmed_Higgs_tree.root', 'Data')"
   ]
  },
  {
   "cell_type": "code",
   "execution_count": 9,
   "id": "excellent-python",
   "metadata": {},
   "outputs": [
    {
     "data": {
      "image/png": "[encoded data removed]",
      "text/plain": [
       "<IPython.core.display.Image object>"
      ]
     },
     "metadata": {},
     "output_type": "display_data"
    }
   ],
   "source": [
    "f_data = ROOT.TFile('histograms/hist_Data_Trimmed_Higgs_tree.root', 'READ')\n",
    "totalMC = ROOT.THStack('totalMC','Combined MC')\n",
    "background.Scale(f_data.m_4l.Integral()/totSim)\n",
    "signal.Scale(f_data.m_4l.Integral()/totSim)\n",
    "totalMC.Add(background)\n",
    "totalMC.Add(signal)\n",
    "can2 = ROOT.TCanvas('can2','MC-Data Comparison')\n",
    "background.SetTitle('MC Background')\n",
    "totalMC.Draw('fhist')\n",
    "f_data.m_4l.SetTitle('Data')\n",
    "f_data.m_4l.SetLineColor(ROOT.kBlack)\n",
    "f_data.m_4l.Draw('e1same')\n",
    "leg2 = can2.BuildLegend(0.64,0.68,0.9,0.9)\n",
    "totalMC.SetTitle('Invariant mass of 4l system;m_{4l} [GeV]; Entries')\n",
    "leg2.Draw()\n",
    "can2.Draw()"
   ]
  },
  {
   "cell_type": "markdown",
   "id": "incorporated-action",
   "metadata": {},
   "source": [
    "The data seems to match well with the simulated predictions and follows the curves well. There is some potential overestimation on the number of entries around $m_{z}$ and some underestimation around $2 m_{z}$. There is also data to back the signal simulation which is a good sign that we have 'discovered' the Higgs boson as postulated!"
   ]
  },
  {
   "cell_type": "markdown",
   "id": "twelve-offense",
   "metadata": {},
   "source": [
    "### f.)"
   ]
  },
  {
   "cell_type": "markdown",
   "id": "plain-offer",
   "metadata": {},
   "source": [
    "Suppose no Higgs boson, how many background events to de expect to see between 120 GeV and 128 GeV (postulated Higgs mass from previous experiments)?"
   ]
  },
  {
   "cell_type": "code",
   "execution_count": 10,
   "id": "strange-polls",
   "metadata": {},
   "outputs": [
    {
     "name": "stdout",
     "output_type": "stream",
     "text": [
      "7.741057364879401\n"
     ]
    }
   ],
   "source": [
    "bkg_exp_evt_no = background.Integral(16, 17)    # Is this bin number ??\n",
    "print(bkg_exp_evt_no)"
   ]
  },
  {
   "cell_type": "markdown",
   "id": "nuclear-project",
   "metadata": {},
   "source": [
    "How many were actually measured in this reigon?"
   ]
  },
  {
   "cell_type": "code",
   "execution_count": 11,
   "id": "incorporated-supplier",
   "metadata": {},
   "outputs": [
    {
     "name": "stdout",
     "output_type": "stream",
     "text": [
      "43.0\n"
     ]
    }
   ],
   "source": [
    "measured_evt_no = f_data.m_4l.Integral(16, 17)\n",
    "print(measured_evt_no)"
   ]
  },
  {
   "cell_type": "markdown",
   "id": "manual-lecture",
   "metadata": {},
   "source": [
    "Simplified, we can assume that the number of events in the reigon is a poisson variable with mean, $\\mu$, given by the expected number of background-only events in the reigon. This means the error is given by $\\sqrt{\\mu}$ (Poisson statistics).\n",
    "\n",
    "From this what is the probability we get a value greater than or equal to our measurement? "
   ]
  },
  {
   "cell_type": "code",
   "execution_count": 12,
   "id": "broke-national",
   "metadata": {},
   "outputs": [
    {
     "name": "stdout",
     "output_type": "stream",
     "text": [
      "p value is: 1.442028067878613e-18\n"
     ]
    }
   ],
   "source": [
    "def poisson_dist(x, rate):\n",
    "    \n",
    "    return pow(rate, x) * math.exp(-rate)/math.factorial(x)\n",
    "\n",
    "detection_prob = 0\n",
    "for i in range(int(measured_evt_no), 100):                   # 100 should be large enough (roughly infinity)\n",
    "    detection_prob += poisson_dist(i, bkg_exp_evt_no)\n",
    "\n",
    "print(f'p value is: {detection_prob}')"
   ]
  },
  {
   "cell_type": "markdown",
   "id": "weird-magic",
   "metadata": {},
   "source": [
    "Since this p-value is less than 0.0000003, we have discovered the Higgs boson!"
   ]
  },
  {
   "cell_type": "code",
   "execution_count": null,
   "id": "dependent-syracuse",
   "metadata": {},
   "outputs": [],
   "source": []
  }
 ],
 "metadata": {
  "kernelspec": {
   "display_name": "Python 3",
   "language": "python",
   "name": "python3"
  },
  "language_info": {
   "codemirror_mode": {
    "name": "ipython",
    "version": 3
   },
   "file_extension": ".py",
   "mimetype": "text/x-python",
   "name": "python",
   "nbconvert_exporter": "python",
   "pygments_lexer": "ipython3",
   "version": "3.6.8"
  }
 },
 "nbformat": 4,
 "nbformat_minor": 5
}
